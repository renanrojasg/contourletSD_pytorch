{
 "cells": [
  {
   "cell_type": "markdown",
   "metadata": {},
   "source": [
    "#### Image Denoising using ContourletSD: Demo"
   ]
  },
  {
   "cell_type": "code",
   "execution_count": null,
   "metadata": {},
   "outputs": [],
   "source": [
    "# Import libraries.\n",
    "import sys\n",
    "sys.path.append('..')\n",
    "\n",
    "import matplotlib.pyplot as plt\n",
    "import torch\n",
    "from torchvision.io import read_image\n",
    "\n",
    "from contourletSD_pytorch.contourlet_ops import (get_norm_scaling,\n",
    "                                                 hard_thresholding)\n",
    "from contourletSD_pytorch.contourlet_sd import ContourletSD\n",
    "from contourletSD_pytorch.contourlet_sd_dec import VALID_INPUT_PRECISION\n",
    "from utils.smooth_functions import VALID_SMOOTH_FUNC\n",
    "import piqa"
   ]
  },
  {
   "cell_type": "code",
   "execution_count": null,
   "metadata": {},
   "outputs": [],
   "source": [
    "# Set configuration.\n",
    "nlev_SD = [2, 2, 3, 4, 5]\n",
    "Pyr_mode = 1\n",
    "smooth_func = 'rcos'\n",
    "dfilt = 'pkva'\n",
    "sigma = 30.0\n",
    "input_precision = 'single'\n",
    "SDmm_dir = '../extras/sdmm_matlab'\n",
    "\n",
    "# Color input.\n",
    "color_images = True\n",
    "image_path = '../datasets/test_images/peppers_color.png'"
   ]
  },
  {
   "cell_type": "code",
   "execution_count": null,
   "metadata": {},
   "outputs": [],
   "source": [
    "# Get the contourlets operator.\n",
    "contourlet_sd = ContourletSD(\n",
    "    nlevs=nlev_SD,\n",
    "    Pyr_mode=Pyr_mode,\n",
    "    smooth_func=VALID_SMOOTH_FUNC[smooth_func],\n",
    "    dfilt=dfilt,\n",
    "    color_mode='rgb' if color_images else 'gray',\n",
    ")"
   ]
  },
  {
   "cell_type": "code",
   "execution_count": null,
   "metadata": {},
   "outputs": [],
   "source": [
    "# Read a test image.\n",
    "X = read_image(image_path).unsqueeze(0)\n",
    "X = X.to(VALID_INPUT_PRECISION[input_precision])\n",
    "\n",
    "# Add Gaussian noise.\n",
    "Xn = X + sigma * torch.randn_like(X)"
   ]
  },
  {
   "cell_type": "code",
   "execution_count": null,
   "metadata": {},
   "outputs": [],
   "source": [
    "# Load pre-computed norm scaling factors for each subband (for thresholding purposes).\n",
    "E = get_norm_scaling(\n",
    "    image_size=Xn.shape[-1],\n",
    "    SDmm_dir=SDmm_dir,\n",
    "    Pyr_mode=Pyr_mode,\n",
    "    device=Xn.device,\n",
    ")"
   ]
  },
  {
   "cell_type": "code",
   "execution_count": null,
   "metadata": {},
   "outputs": [],
   "source": [
    "# Get contourlet coefficients.\n",
    "Y = contourlet_sd(x=Xn)\n",
    "\n",
    "# Apply hard thresholding on coefficients.\n",
    "Yth = hard_thresholding(\n",
    "    y=Y,\n",
    "    sigma=sigma,\n",
    "    E=E,\n",
    ")\n",
    "\n",
    "# Reconstruct image.\n",
    "Xd = contourlet_sd(\n",
    "    x=Yth,\n",
    "    reconstruct=True,\n",
    ")"
   ]
  },
  {
   "cell_type": "code",
   "execution_count": null,
   "metadata": {},
   "outputs": [],
   "source": [
    "# Compute PSNR and SSIM.\n",
    "psnr = piqa.PSNR(value_range=255)\n",
    "psnr_n = psnr(Xn.clamp(0, 255), X.clamp(0, 255))\n",
    "psnr_d = psnr(Xd.clamp(0, 255), X.clamp(0, 255))\n",
    "\n",
    "ssim = piqa.SSIM(value_range=255)\n",
    "ssim_n = ssim(Xn.clamp(0, 255), X.clamp(0, 255))\n",
    "ssim_d = ssim(Xd.clamp(0, 255), X.clamp(0, 255))"
   ]
  },
  {
   "cell_type": "code",
   "execution_count": null,
   "metadata": {},
   "outputs": [],
   "source": [
    "# Show results.\n",
    "f01 = plt.figure(figsize=(30, 10))\n",
    "for idx, (tag, img) in enumerate(zip([\n",
    "  'Original', f'Observation\\n(PSNR: {psnr_n:.2f} dB, SSIM: {ssim_n:.2f})',\n",
    "  f'ContourletSD Reconstruction\\n(PSNR: {psnr_d:.2f} dB, SSIM: {ssim_d:.2f})',\n",
    "  ], [X, Xn, Xd])):\n",
    "  if color_images:\n",
    "    img_ = img[0, ...].permute(1, 2, 0).clamp(0, 255) / 255 \n",
    "  else:\n",
    "    img_ = img[0, 0, ...].clamp(0, 255)\n",
    "  plt.subplot(1, 3, idx + 1)\n",
    "  plt.imshow(img_, cmap='gray')\n",
    "  plt.axis('off')\n",
    "  plt.title(tag, fontsize=24)"
   ]
  }
 ],
 "metadata": {
  "kernelspec": {
   "display_name": "contourletSD_pytorch",
   "language": "python",
   "name": "python3"
  },
  "language_info": {
   "codemirror_mode": {
    "name": "ipython",
    "version": 3
   },
   "file_extension": ".py",
   "mimetype": "text/x-python",
   "name": "python",
   "nbconvert_exporter": "python",
   "pygments_lexer": "ipython3",
   "version": "3.10.14"
  }
 },
 "nbformat": 4,
 "nbformat_minor": 2
}
